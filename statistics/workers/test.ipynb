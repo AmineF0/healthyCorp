{
 "cells": [
  {
   "cell_type": "code",
   "execution_count": 8,
   "metadata": {},
   "outputs": [],
   "source": [
    "import json\n",
    "import os "
   ]
  },
  {
   "cell_type": "code",
   "execution_count": 9,
   "metadata": {},
   "outputs": [
    {
     "name": "stdout",
     "output_type": "stream",
     "text": [
      "{'Ahmad Al-Rashid': {'total_tasks': 135, 'priority_distribution': {'Medium': 69, 'High': 66}, 'workload_statistics': {'total_estimated_hours': 554, 'average_hours_per_task': 4.1, 'max_hours': 6, 'min_hours': 2, 'median_hours': 4}, 'date_statistics': {'earliest_task': '2024-11-01', 'latest_task': '2024-11-29', 'total_days_span': 28}, 'task_metrics': {'tasks_with_dates': 135, 'tasks_with_priorities': 135, 'tasks_with_hours': 135, 'completion_rate': 0.0}}, 'Fatima Al-Qassim': {'total_tasks': 135, 'priority_distribution': {'High': 61, 'Medium': 74}, 'workload_statistics': {'total_estimated_hours': 520, 'average_hours_per_task': 3.85, 'max_hours': 6, 'min_hours': 2, 'median_hours': 4}, 'date_statistics': {'earliest_task': '2024-11-01', 'latest_task': '2024-11-29', 'total_days_span': 28}, 'task_metrics': {'tasks_with_dates': 135, 'tasks_with_priorities': 135, 'tasks_with_hours': 135, 'completion_rate': 0.0}}, 'Michael Anderson': {'total_tasks': 138, 'priority_distribution': {'High': 82, 'Medium': 56}, 'workload_statistics': {'total_estimated_hours': 568, 'average_hours_per_task': 4.12, 'max_hours': 6, 'min_hours': 2, 'median_hours': 4.0}, 'date_statistics': {'earliest_task': '2024-11-01', 'latest_task': '2024-11-29', 'total_days_span': 28}, 'task_metrics': {'tasks_with_dates': 138, 'tasks_with_priorities': 138, 'tasks_with_hours': 138, 'completion_rate': 0.0}}, 'Aisha Al-Dubai': {'total_tasks': 52, 'priority_distribution': {'Low': 16, 'High': 23, 'Medium': 13}, 'workload_statistics': {'total_estimated_hours': 239, 'average_hours_per_task': 4.6, 'max_hours': 6, 'min_hours': 2, 'median_hours': 4.5}, 'date_statistics': {'earliest_task': '2024-11-01', 'latest_task': '2024-11-29', 'total_days_span': 28}, 'task_metrics': {'tasks_with_dates': 52, 'tasks_with_priorities': 52, 'tasks_with_hours': 52, 'completion_rate': 0.0}}, 'Jennifer Brooks': {'total_tasks': 67, 'priority_distribution': {'Medium': 22, 'High': 23, 'Low': 22}, 'workload_statistics': {'total_estimated_hours': 271, 'average_hours_per_task': 4.04, 'max_hours': 6, 'min_hours': 2, 'median_hours': 4}, 'date_statistics': {'earliest_task': '2024-11-01', 'latest_task': '2024-11-29', 'total_days_span': 28}, 'task_metrics': {'tasks_with_dates': 67, 'tasks_with_priorities': 67, 'tasks_with_hours': 67, 'completion_rate': 0.0}}, 'Khalid Al-Nasser': {'total_tasks': 55, 'priority_distribution': {'Low': 28, 'Medium': 11, 'High': 16}, 'workload_statistics': {'total_estimated_hours': 244, 'average_hours_per_task': 4.44, 'max_hours': 6, 'min_hours': 2, 'median_hours': 4}, 'date_statistics': {'earliest_task': '2024-11-01', 'latest_task': '2024-11-29', 'total_days_span': 28}, 'task_metrics': {'tasks_with_dates': 55, 'tasks_with_priorities': 55, 'tasks_with_hours': 55, 'completion_rate': 0.0}}, 'Mariam Al-Hashimi': {'total_tasks': 126, 'priority_distribution': {'Low': 28, 'High': 58, 'Medium': 40}, 'workload_statistics': {'total_estimated_hours': 500, 'average_hours_per_task': 3.97, 'max_hours': 6, 'min_hours': 2, 'median_hours': 4.0}, 'date_statistics': {'earliest_task': '2024-11-01', 'latest_task': '2024-11-29', 'total_days_span': 28}, 'task_metrics': {'tasks_with_dates': 126, 'tasks_with_priorities': 126, 'tasks_with_hours': 126, 'completion_rate': 0.0}}, 'Omar Al-Sayed': {'total_tasks': 112, 'priority_distribution': {'High': 29, 'Low': 51, 'Medium': 32}, 'workload_statistics': {'total_estimated_hours': 458, 'average_hours_per_task': 4.09, 'max_hours': 6, 'min_hours': 2, 'median_hours': 4.0}, 'date_statistics': {'earliest_task': '2024-11-01', 'latest_task': '2024-11-29', 'total_days_span': 28}, 'task_metrics': {'tasks_with_dates': 112, 'tasks_with_priorities': 112, 'tasks_with_hours': 112, 'completion_rate': 0.0}}, 'Sarah Mitchell': {'total_tasks': 123, 'priority_distribution': {'High': 37, 'Low': 39, 'Medium': 47}, 'workload_statistics': {'total_estimated_hours': 482, 'average_hours_per_task': 3.92, 'max_hours': 6, 'min_hours': 2, 'median_hours': 4}, 'date_statistics': {'earliest_task': '2024-11-01', 'latest_task': '2024-11-29', 'total_days_span': 28}, 'task_metrics': {'tasks_with_dates': 123, 'tasks_with_priorities': 123, 'tasks_with_hours': 123, 'completion_rate': 0.0}}, 'William Thompson': {'total_tasks': 131, 'priority_distribution': {'High': 51, 'Low': 42, 'Medium': 38}, 'workload_statistics': {'total_estimated_hours': 508, 'average_hours_per_task': 3.88, 'max_hours': 6, 'min_hours': 2, 'median_hours': 4}, 'date_statistics': {'earliest_task': '2024-11-01', 'latest_task': '2024-11-29', 'total_days_span': 28}, 'task_metrics': {'tasks_with_dates': 131, 'tasks_with_priorities': 131, 'tasks_with_hours': 131, 'completion_rate': 0.0}}, 'Elizabeth Parker': {'total_tasks': 55, 'priority_distribution': {'High': 22, 'Medium': 14, 'Low': 19}, 'workload_statistics': {'total_estimated_hours': 226, 'average_hours_per_task': 4.11, 'max_hours': 6, 'min_hours': 2, 'median_hours': 4}, 'date_statistics': {'earliest_task': '2024-11-01', 'latest_task': '2024-11-29', 'total_days_span': 28}, 'task_metrics': {'tasks_with_dates': 55, 'tasks_with_priorities': 55, 'tasks_with_hours': 55, 'completion_rate': 0.0}}, 'Hassan Al-Mahmoud': {'total_tasks': 149, 'priority_distribution': {'High': 54, 'Medium': 45, 'Low': 50}, 'workload_statistics': {'total_estimated_hours': 598, 'average_hours_per_task': 4.01, 'max_hours': 6, 'min_hours': 2, 'median_hours': 4}, 'date_statistics': {'earliest_task': '2024-11-01', 'latest_task': '2024-11-29', 'total_days_span': 28}, 'task_metrics': {'tasks_with_dates': 149, 'tasks_with_priorities': 149, 'tasks_with_hours': 149, 'completion_rate': 0.0}}, 'James Cooper': {'total_tasks': 75, 'priority_distribution': {'Medium': 25, 'Low': 24, 'High': 26}, 'workload_statistics': {'total_estimated_hours': 278, 'average_hours_per_task': 3.71, 'max_hours': 6, 'min_hours': 2, 'median_hours': 4}, 'date_statistics': {'earliest_task': '2024-11-01', 'latest_task': '2024-11-29', 'total_days_span': 28}, 'task_metrics': {'tasks_with_dates': 75, 'tasks_with_priorities': 75, 'tasks_with_hours': 75, 'completion_rate': 0.0}}, 'Noura Al-Zahrani': {'total_tasks': 55, 'priority_distribution': {'Low': 21, 'Medium': 20, 'High': 14}, 'workload_statistics': {'total_estimated_hours': 212, 'average_hours_per_task': 3.85, 'max_hours': 6, 'min_hours': 2, 'median_hours': 4}, 'date_statistics': {'earliest_task': '2024-11-01', 'latest_task': '2024-11-29', 'total_days_span': 28}, 'task_metrics': {'tasks_with_dates': 55, 'tasks_with_priorities': 55, 'tasks_with_hours': 55, 'completion_rate': 0.0}}, 'Katherine Wilson': {'total_tasks': 60, 'priority_distribution': {'High': 26, 'Low': 21, 'Medium': 13}, 'workload_statistics': {'total_estimated_hours': 233, 'average_hours_per_task': 3.88, 'max_hours': 7, 'min_hours': 2, 'median_hours': 4.0}, 'date_statistics': {'earliest_task': '2024-11-01', 'latest_task': '2024-11-29', 'total_days_span': 28}, 'task_metrics': {'tasks_with_dates': 60, 'tasks_with_priorities': 60, 'tasks_with_hours': 60, 'completion_rate': 0.0}}, 'Leila Al-Harbi': {'total_tasks': 54, 'priority_distribution': {'High': 21, 'Medium': 14, 'Low': 19}, 'workload_statistics': {'total_estimated_hours': 212, 'average_hours_per_task': 3.93, 'max_hours': 7, 'min_hours': 2, 'median_hours': 4.0}, 'date_statistics': {'earliest_task': '2024-11-01', 'latest_task': '2024-11-29', 'total_days_span': 28}, 'task_metrics': {'tasks_with_dates': 54, 'tasks_with_priorities': 54, 'tasks_with_hours': 54, 'completion_rate': 0.0}}, 'Mohammed Al-Qahtani': {'total_tasks': 53, 'priority_distribution': {'Low': 15, 'High': 18, 'Medium': 20}, 'workload_statistics': {'total_estimated_hours': 190, 'average_hours_per_task': 3.58, 'max_hours': 5, 'min_hours': 2, 'median_hours': 4}, 'date_statistics': {'earliest_task': '2024-11-01', 'latest_task': '2024-11-29', 'total_days_span': 28}, 'task_metrics': {'tasks_with_dates': 53, 'tasks_with_priorities': 53, 'tasks_with_hours': 53, 'completion_rate': 0.0}}, 'Robert Stevens': {'total_tasks': 76, 'priority_distribution': {'Low': 29, 'High': 23, 'Medium': 24}, 'workload_statistics': {'total_estimated_hours': 356, 'average_hours_per_task': 4.68, 'max_hours': 8, 'min_hours': 2, 'median_hours': 5.0}, 'date_statistics': {'earliest_task': '2024-11-01', 'latest_task': '2024-11-29', 'total_days_span': 28}, 'task_metrics': {'tasks_with_dates': 76, 'tasks_with_priorities': 76, 'tasks_with_hours': 76, 'completion_rate': 0.0}}, 'Ibrahim Al-Kuwaiti': {'total_tasks': 76, 'priority_distribution': {'High': 24, 'Low': 25, 'Medium': 27}, 'workload_statistics': {'total_estimated_hours': 372, 'average_hours_per_task': 4.89, 'max_hours': 10, 'min_hours': 3, 'median_hours': 5.0}, 'date_statistics': {'earliest_task': '2024-11-01', 'latest_task': '2024-11-29', 'total_days_span': 28}, 'task_metrics': {'tasks_with_dates': 76, 'tasks_with_priorities': 76, 'tasks_with_hours': 76, 'completion_rate': 0.0}}, 'Thomas Richardson': {'total_tasks': 35, 'priority_distribution': {'Medium': 15, 'High': 10, 'Low': 10}, 'workload_statistics': {'total_estimated_hours': 209, 'average_hours_per_task': 5.97, 'max_hours': 9, 'min_hours': 3, 'median_hours': 6}, 'date_statistics': {'earliest_task': '2024-11-01', 'latest_task': '2024-11-29', 'total_days_span': 28}, 'task_metrics': {'tasks_with_dates': 35, 'tasks_with_priorities': 35, 'tasks_with_hours': 35, 'completion_rate': 0.0}}}\n"
     ]
    }
   ],
   "source": [
    "dirs = [\"leadership\",\"operations\",\"project alpha\",\"project beta\",\"project gamma\",\"technical\"]\n",
    "ans = {}\n",
    "for d in dirs:\n",
    "    for file in os.listdir(d):\n",
    "        if file.endswith(\".json\"):\n",
    "            with open(os.path.join(d,file)) as f:\n",
    "                data = json.load(f)\n",
    "                tmp = file.split(\".\")[0]\n",
    "                file_name = \" \".join(tmp.split(\"_\")[:-1])\n",
    "                \n",
    "                ans[file_name] = data\n",
    "                \n",
    "print(ans)"
   ]
  },
  {
   "cell_type": "code",
   "execution_count": 10,
   "metadata": {},
   "outputs": [],
   "source": [
    "json.dump(ans, open(\"employee_statistic.json\",\"w\"), indent=4)"
   ]
  },
  {
   "cell_type": "code",
   "execution_count": 11,
   "metadata": {},
   "outputs": [
    {
     "name": "stdout",
     "output_type": "stream",
     "text": [
      "{'leadership': {'total_tasks': 408, 'priority_distribution': {'Medium': 199, 'High': 209}, 'workload_statistics': {'total_estimated_hours': 1642, 'max_hours': 6, 'min_hours': 2, 'average_hours_per_task': 4.02, 'median_hours': 4}, 'date_statistics': {'earliest_task': '2024-11-01', 'latest_task': '2024-11-29', 'total_days_span': 28}, 'task_metrics': {'tasks_with_dates': 408, 'tasks_with_priorities': 408, 'tasks_with_hours': 408, 'completion_rate': 0.0}}, 'operations': {'total_tasks': 174, 'priority_distribution': {'Low': 66, 'High': 62, 'Medium': 46}, 'workload_statistics': {'total_estimated_hours': 754, 'max_hours': 6, 'min_hours': 2, 'average_hours_per_task': 4.33, 'median_hours': 4}, 'date_statistics': {'earliest_task': '2024-11-01', 'latest_task': '2024-11-29', 'total_days_span': 28}, 'task_metrics': {'tasks_with_dates': 174, 'tasks_with_priorities': 174, 'tasks_with_hours': 174, 'completion_rate': 0.0}}, 'project alpha': {'total_tasks': 492, 'priority_distribution': {'Low': 160, 'High': 175, 'Medium': 157}, 'workload_statistics': {'total_estimated_hours': 1948, 'max_hours': 6, 'min_hours': 2, 'average_hours_per_task': 3.96, 'median_hours': 4}, 'date_statistics': {'earliest_task': '2024-11-01', 'latest_task': '2024-11-29', 'total_days_span': 28}, 'task_metrics': {'tasks_with_dates': 492, 'tasks_with_priorities': 492, 'tasks_with_hours': 492, 'completion_rate': 0.0}}, 'project beta': {'total_tasks': 334, 'priority_distribution': {'High': 116, 'Medium': 104, 'Low': 114}, 'workload_statistics': {'total_estimated_hours': 1314, 'max_hours': 6, 'min_hours': 2, 'average_hours_per_task': 3.93, 'median_hours': 4}, 'date_statistics': {'earliest_task': '2024-11-01', 'latest_task': '2024-11-29', 'total_days_span': 28}, 'task_metrics': {'tasks_with_dates': 334, 'tasks_with_priorities': 334, 'tasks_with_hours': 334, 'completion_rate': 0.0}}, 'project gamma': {'total_tasks': 243, 'priority_distribution': {'High': 88, 'Low': 84, 'Medium': 71}, 'workload_statistics': {'total_estimated_hours': 991, 'max_hours': 8, 'min_hours': 2, 'average_hours_per_task': 4.08, 'median_hours': 6}, 'date_statistics': {'earliest_task': '2024-11-01', 'latest_task': '2024-11-29', 'total_days_span': 28}, 'task_metrics': {'tasks_with_dates': 243, 'tasks_with_priorities': 243, 'tasks_with_hours': 243, 'completion_rate': 0.0}}, 'technical': {'total_tasks': 111, 'priority_distribution': {'High': 34, 'Low': 35, 'Medium': 42}, 'workload_statistics': {'total_estimated_hours': 581, 'max_hours': 10, 'min_hours': 3, 'average_hours_per_task': 5.23, 'median_hours': 7}, 'date_statistics': {'earliest_task': '2024-11-01', 'latest_task': '2024-11-29', 'total_days_span': 28}, 'task_metrics': {'tasks_with_dates': 111, 'tasks_with_priorities': 111, 'tasks_with_hours': 111, 'completion_rate': 0.0}}}\n"
     ]
    }
   ],
   "source": [
    "from datetime import datetime\n",
    "\n",
    "dirs = [\"leadership\",\"operations\",\"project alpha\",\"project beta\",\"project gamma\",\"technical\"]\n",
    "ans = {}\n",
    "for d in dirs:\n",
    "    ans[d] = {}\n",
    "    for file in os.listdir(d):\n",
    "        if file.endswith(\".json\"):\n",
    "            with open(os.path.join(d,file)) as f:\n",
    "                data = json.load(f)\n",
    "                if 'total_tasks' not in ans[d]:\n",
    "                    ans[d]['total_tasks'] = 0\n",
    "                ans[d]['total_tasks']+=data['total_tasks']\n",
    "                if 'priority_distribution' not in ans[d]:\n",
    "                    ans[d]['priority_distribution'] = {}\n",
    "                for k,v in data['priority_distribution'].items():\n",
    "                    if k not in ans[d]['priority_distribution']:\n",
    "                        ans[d]['priority_distribution'][k] = 0\n",
    "                    ans[d]['priority_distribution'][k]+=v\n",
    "                if 'workload_statistics' not in ans[d]:\n",
    "                    ans[d]['workload_statistics'] = {}\n",
    "                if \"total_estimated_hours\" not in ans[d]['workload_statistics']:\n",
    "                    ans[d]['workload_statistics'][\"total_estimated_hours\"] = 0\n",
    "                ans[d]['workload_statistics'][\"total_estimated_hours\"]+=data['workload_statistics'][\"total_estimated_hours\"]\n",
    "                if \"max_hours\" not in ans[d]['workload_statistics']:\n",
    "                    ans[d]['workload_statistics'][\"max_hours\"] = 0\n",
    "                ans[d]['workload_statistics'][\"max_hours\"] = max(ans[d]['workload_statistics'][\"max_hours\"],data['workload_statistics'][\"max_hours\"])\n",
    "                if \"min_hours\" not in ans[d]['workload_statistics']:\n",
    "                    ans[d]['workload_statistics'][\"min_hours\"] = 10**9\n",
    "                ans[d]['workload_statistics'][\"min_hours\"] = min(ans[d]['workload_statistics'][\"min_hours\"],data['workload_statistics'][\"min_hours\"])\n",
    "                if 'date_statistics' not in ans[d]:\n",
    "                    ans[d]['date_statistics'] = {}\n",
    "                if \"earliest_task\" not in ans[d]['date_statistics']:\n",
    "                    #string date \n",
    "                    ans[d]['date_statistics'][\"earliest_task\"] = data['date_statistics'][\"earliest_task\"]\n",
    "                else:\n",
    "                    if data['date_statistics'][\"earliest_task\"] < ans[d]['date_statistics'][\"earliest_task\"]:\n",
    "                        ans[d]['date_statistics'][\"earliest_task\"] = data['date_statistics'][\"earliest_task\"]\n",
    "                if \"latest_task\" not in ans[d]['date_statistics']:\n",
    "                    #string date \n",
    "                    ans[d]['date_statistics'][\"latest_task\"] = data['date_statistics'][\"latest_task\"]\n",
    "                else:\n",
    "                    if data['date_statistics'][\"latest_task\"] > ans[d]['date_statistics'][\"latest_task\"]:\n",
    "                        ans[d]['date_statistics'][\"latest_task\"] = data['date_statistics'][\"latest_task\"]\n",
    "                if 'task_metrics' not in ans[d]:\n",
    "                    ans[d]['task_metrics'] = {}\n",
    "                for k,v in data['task_metrics'].items():\n",
    "                    if k not in ans[d]['task_metrics']:\n",
    "                        ans[d]['task_metrics'][k] = 0\n",
    "                    ans[d]['task_metrics'][k]+=v\n",
    "                    \n",
    "                    \n",
    "    ans[d][\"workload_statistics\"][\"average_hours_per_task\"] = round(ans[d][\"workload_statistics\"][\"total_estimated_hours\"]/ans[d]['total_tasks'],2)\n",
    "    ans[d][\"workload_statistics\"][\"median_hours\"] = ans[d][\"workload_statistics\"][\"max_hours\"] - ans[d][\"workload_statistics\"][\"min_hours\"]\n",
    "    date_format = \"%Y-%m-%d\"\n",
    "    earliest_task_date = datetime.strptime(ans[d]['date_statistics'][\"earliest_task\"], date_format)\n",
    "    latest_task_date = datetime.strptime(ans[d]['date_statistics'][\"latest_task\"], date_format)\n",
    "    ans[d][\"date_statistics\"]['total_days_span'] = (latest_task_date - earliest_task_date).days\n",
    "                \n",
    "                \n",
    "print(ans)"
   ]
  },
  {
   "cell_type": "code",
   "execution_count": 12,
   "metadata": {},
   "outputs": [],
   "source": [
    "json.dump(ans, open(\"departmets_statistics.json\",\"w\"), indent=4)"
   ]
  },
  {
   "cell_type": "code",
   "execution_count": 13,
   "metadata": {},
   "outputs": [
    {
     "name": "stdout",
     "output_type": "stream",
     "text": [
      "{'total_tasks': 1762, 'priority_distribution': {'Medium': 619, 'High': 684, 'Low': 459}, 'workload_statistics': {'total_estimated_hours': 7230, 'max_hours': 10, 'min_hours': 2, 'average_hours_per_task': 4.1, 'median_hours': 8}, 'date_statistics': {'earliest_task': '2024-11-01', 'latest_task': '2024-11-29', 'total_days_span': 28}, 'task_metrics': {'tasks_with_dates': 1762, 'tasks_with_priorities': 1762, 'tasks_with_hours': 1762, 'completion_rate': 0.0}}\n"
     ]
    }
   ],
   "source": [
    "from datetime import datetime\n",
    "\n",
    "dirs = [\"leadership\",\"operations\",\"project alpha\",\"project beta\",\"project gamma\",\"technical\"]\n",
    "ans = {}\n",
    "ans = {}\n",
    "for d in dirs:\n",
    "    for file in os.listdir(d):\n",
    "        if file.endswith(\".json\"):\n",
    "            with open(os.path.join(d,file)) as f:\n",
    "                data = json.load(f)\n",
    "                if 'total_tasks' not in ans:\n",
    "                    ans['total_tasks'] = 0\n",
    "                ans['total_tasks']+=data['total_tasks']\n",
    "                if 'priority_distribution' not in ans:\n",
    "                    ans['priority_distribution'] = {}\n",
    "                for k,v in data['priority_distribution'].items():\n",
    "                    if k not in ans['priority_distribution']:\n",
    "                        ans['priority_distribution'][k] = 0\n",
    "                    ans['priority_distribution'][k]+=v\n",
    "                if 'workload_statistics' not in ans:\n",
    "                    ans['workload_statistics'] = {}\n",
    "                if \"total_estimated_hours\" not in ans['workload_statistics']:\n",
    "                    ans['workload_statistics'][\"total_estimated_hours\"] = 0\n",
    "                ans['workload_statistics'][\"total_estimated_hours\"]+=data['workload_statistics'][\"total_estimated_hours\"]\n",
    "                if \"max_hours\" not in ans['workload_statistics']:\n",
    "                    ans['workload_statistics'][\"max_hours\"] = 0\n",
    "                ans['workload_statistics'][\"max_hours\"] = max(ans['workload_statistics'][\"max_hours\"],data['workload_statistics'][\"max_hours\"])\n",
    "                if \"min_hours\" not in ans['workload_statistics']:\n",
    "                    ans['workload_statistics'][\"min_hours\"] = 10**9\n",
    "                ans['workload_statistics'][\"min_hours\"] = min(ans['workload_statistics'][\"min_hours\"],data['workload_statistics'][\"min_hours\"])\n",
    "                if 'date_statistics' not in ans:\n",
    "                    ans['date_statistics'] = {}\n",
    "                if \"earliest_task\" not in ans['date_statistics']:\n",
    "                    #string date \n",
    "                    ans['date_statistics'][\"earliest_task\"] = data['date_statistics'][\"earliest_task\"]\n",
    "                else:\n",
    "                    if data['date_statistics'][\"earliest_task\"] < ans['date_statistics'][\"earliest_task\"]:\n",
    "                        ans['date_statistics'][\"earliest_task\"] = data['date_statistics'][\"earliest_task\"]\n",
    "                if \"latest_task\" not in ans['date_statistics']:\n",
    "                    #string date \n",
    "                    ans['date_statistics'][\"latest_task\"] = data['date_statistics'][\"latest_task\"]\n",
    "                else:\n",
    "                    if data['date_statistics'][\"latest_task\"] > ans['date_statistics'][\"latest_task\"]:\n",
    "                        ans['date_statistics'][\"latest_task\"] = data['date_statistics'][\"latest_task\"]\n",
    "                if 'task_metrics' not in ans:\n",
    "                    ans['task_metrics'] = {}\n",
    "                for k,v in data['task_metrics'].items():\n",
    "                    if k not in ans['task_metrics']:\n",
    "                        ans['task_metrics'][k] = 0\n",
    "                    ans['task_metrics'][k]+=v\n",
    "                    \n",
    "                    \n",
    "ans[\"workload_statistics\"][\"average_hours_per_task\"] = round(ans[\"workload_statistics\"][\"total_estimated_hours\"]/ans['total_tasks'],2)\n",
    "ans[\"workload_statistics\"][\"median_hours\"] = ans[\"workload_statistics\"][\"max_hours\"] - ans[\"workload_statistics\"][\"min_hours\"]\n",
    "date_format = \"%Y-%m-%d\"\n",
    "earliest_task_date = datetime.strptime(ans['date_statistics'][\"earliest_task\"], date_format)\n",
    "latest_task_date = datetime.strptime(ans['date_statistics'][\"latest_task\"], date_format)\n",
    "ans[\"date_statistics\"]['total_days_span'] = (latest_task_date - earliest_task_date).days\n",
    "                \n",
    "                \n",
    "print(ans)"
   ]
  },
  {
   "cell_type": "code",
   "execution_count": 14,
   "metadata": {},
   "outputs": [],
   "source": [
    "json.dump(ans, open(\"comapny_statistics.json\",\"w\"), indent=4)"
   ]
  },
  {
   "cell_type": "code",
   "execution_count": null,
   "metadata": {},
   "outputs": [],
   "source": []
  }
 ],
 "metadata": {
  "kernelspec": {
   "display_name": "Python 3",
   "language": "python",
   "name": "python3"
  },
  "language_info": {
   "codemirror_mode": {
    "name": "ipython",
    "version": 3
   },
   "file_extension": ".py",
   "mimetype": "text/x-python",
   "name": "python",
   "nbconvert_exporter": "python",
   "pygments_lexer": "ipython3",
   "version": "3.12.4"
  }
 },
 "nbformat": 4,
 "nbformat_minor": 2
}
